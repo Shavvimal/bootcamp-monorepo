{
 "cells": [
  {
   "cell_type": "markdown",
   "metadata": {
    "colab_type": "text",
    "id": "view-in-github"
   },
   "source": [
    "<a href=\"https://colab.research.google.com/github/getfutureproof-instructors/fp_lecture_notes_data_manipulation/blob/main/data_manipulation.ipynb\" target=\"_parent\"><img src=\"https://colab.research.google.com/assets/colab-badge.svg\" alt=\"Open In Colab\"/></a>"
   ]
  },
  {
   "cell_type": "markdown",
   "metadata": {
    "id": "_RGfhx03m0hD"
   },
   "source": [
    "---\n",
    "# **Reading Data**\n"
   ]
  },
  {
   "cell_type": "markdown",
   "metadata": {
    "id": "6ujjUqCfppfM"
   },
   "source": [
    "# JSON rules the world!"
   ]
  },
  {
   "cell_type": "code",
   "execution_count": 1,
   "metadata": {},
   "outputs": [],
   "source": [
    "import json"
   ]
  },
  {
   "cell_type": "code",
   "execution_count": 2,
   "metadata": {},
   "outputs": [
    {
     "name": "stdout",
     "output_type": "stream",
     "text": [
      "<class '_io.TextIOWrapper'>\n",
      "<class 'list'>\n"
     ]
    }
   ],
   "source": [
    "with open('data/cats.json') as data:\n",
    "    print(type(data))\n",
    "    d = json.load(data)\n",
    "    print(type(d))"
   ]
  },
  {
   "cell_type": "code",
   "execution_count": 3,
   "metadata": {},
   "outputs": [
    {
     "data": {
      "text/plain": [
       "[{'name': 'Zelda', 'age': 4},\n",
       " {'name': 'Ziggy', 'age': 2},\n",
       " {'name': 'Tigerlily', 'age': 11}]"
      ]
     },
     "execution_count": 3,
     "metadata": {},
     "output_type": "execute_result"
    }
   ],
   "source": [
    "d"
   ]
  },
  {
   "cell_type": "code",
   "execution_count": 4,
   "metadata": {},
   "outputs": [],
   "source": [
    "import csv"
   ]
  },
  {
   "cell_type": "code",
   "execution_count": 5,
   "metadata": {},
   "outputs": [
    {
     "name": "stdout",
     "output_type": "stream",
     "text": [
      "total_bill, tip, sex, smoker, day, time, size\n",
      "16.99, 1.01, Female, No, Sun, Dinner, 2\n",
      "10.34, 1.66, Male, No, Sun, Dinner, 3\n",
      "21.01, 3.5, Male, No, Sun, Dinner, 3\n",
      "23.68, 3.31, Male, No, Sun, Dinner, 2\n",
      "24.59, 3.61, Female, No, Sun, Dinner, 4\n",
      "25.29, 4.71, Male, No, Sun, Dinner, 4\n",
      "8.77, 2, Male, No, Sun, Dinner, 2\n"
     ]
    }
   ],
   "source": [
    "with open('data/tips.csv') as csvfile:\n",
    "    data_reader = csv.reader(csvfile)\n",
    "    for row in data_reader:\n",
    "        print(', '.join(row))"
   ]
  },
  {
   "cell_type": "code",
   "execution_count": 6,
   "metadata": {},
   "outputs": [
    {
     "data": {
      "text/plain": [
       "<_io.TextIOWrapper name='data/tips.csv' mode='r' encoding='cp1252'>"
      ]
     },
     "execution_count": 6,
     "metadata": {},
     "output_type": "execute_result"
    }
   ],
   "source": [
    "csvfile"
   ]
  },
  {
   "cell_type": "markdown",
   "metadata": {},
   "source": [
    "---\n",
    "# **NumPy**"
   ]
  },
  {
   "cell_type": "code",
   "execution_count": 7,
   "metadata": {},
   "outputs": [],
   "source": [
    "import numpy as np"
   ]
  },
  {
   "cell_type": "markdown",
   "metadata": {
    "id": "WyUs8qRCrkCv"
   },
   "source": [
    "### Creating a NumPy array"
   ]
  },
  {
   "cell_type": "code",
   "execution_count": 12,
   "metadata": {},
   "outputs": [
    {
     "data": {
      "text/plain": [
       "array([[ 4.,  8., 15., 16., 23., 42.],\n",
       "       [ 1.,  1.,  2.,  3.,  5.,  8.],\n",
       "       [ 2.,  4.,  6.,  8., 10., 12.]])"
      ]
     },
     "execution_count": 12,
     "metadata": {},
     "output_type": "execute_result"
    }
   ],
   "source": [
    "sequences_arr = np.genfromtxt('data/sequences.csv', delimiter=',')\n",
    "sequences_arr"
   ]
  },
  {
   "cell_type": "code",
   "execution_count": 14,
   "metadata": {},
   "outputs": [
    {
     "data": {
      "text/plain": [
       "numpy.ndarray"
      ]
     },
     "execution_count": 14,
     "metadata": {},
     "output_type": "execute_result"
    }
   ],
   "source": [
    "type(sequences_arr)"
   ]
  },
  {
   "cell_type": "code",
   "execution_count": 15,
   "metadata": {},
   "outputs": [
    {
     "data": {
      "text/plain": [
       "array([1, 2, 4, 5, 6])"
      ]
     },
     "execution_count": 15,
     "metadata": {},
     "output_type": "execute_result"
    }
   ],
   "source": [
    "list_to_arr = np.array ([1, 2, 4, 5, 6])\n",
    "list_to_arr"
   ]
  },
  {
   "cell_type": "markdown",
   "metadata": {
    "id": "l5fNvd_Rrn85"
   },
   "source": [
    "## Exploring a NumPy array"
   ]
  },
  {
   "cell_type": "code",
   "execution_count": 16,
   "metadata": {},
   "outputs": [
    {
     "data": {
      "text/plain": [
       "2"
      ]
     },
     "execution_count": 16,
     "metadata": {},
     "output_type": "execute_result"
    }
   ],
   "source": [
    "sequences_arr.ndim"
   ]
  },
  {
   "cell_type": "code",
   "execution_count": 17,
   "metadata": {},
   "outputs": [
    {
     "name": "stdout",
     "output_type": "stream",
     "text": [
      "sequences\n",
      " [[ 4.  8. 15. 16. 23. 42.]\n",
      " [ 1.  1.  2.  3.  5.  8.]\n",
      " [ 2.  4.  6.  8. 10. 12.]]\n"
     ]
    }
   ],
   "source": [
    "print('sequences\\n', sequences_arr)"
   ]
  },
  {
   "cell_type": "code",
   "execution_count": 19,
   "metadata": {},
   "outputs": [
    {
     "data": {
      "text/plain": [
       "array([list([1, 2, [1, 5]]), 2, 4, 5, 6], dtype=object)"
      ]
     },
     "execution_count": 19,
     "metadata": {},
     "output_type": "execute_result"
    }
   ],
   "source": [
    "list_to_arr = np.array ([[1, 2, [1, 5]], 2, 4, 5, 6], dtype=object)\n",
    "list_to_arr"
   ]
  },
  {
   "cell_type": "code",
   "execution_count": 20,
   "metadata": {},
   "outputs": [
    {
     "data": {
      "text/plain": [
       "(5,)"
      ]
     },
     "execution_count": 20,
     "metadata": {},
     "output_type": "execute_result"
    }
   ],
   "source": [
    "list_to_arr.shape"
   ]
  },
  {
   "cell_type": "code",
   "execution_count": 21,
   "metadata": {},
   "outputs": [
    {
     "data": {
      "text/plain": [
       "(3, 6)"
      ]
     },
     "execution_count": 21,
     "metadata": {},
     "output_type": "execute_result"
    }
   ],
   "source": [
    "sequences_arr.shape"
   ]
  },
  {
   "cell_type": "code",
   "execution_count": 23,
   "metadata": {},
   "outputs": [
    {
     "data": {
      "text/plain": [
       "18"
      ]
     },
     "execution_count": 23,
     "metadata": {},
     "output_type": "execute_result"
    }
   ],
   "source": [
    "sequences_arr.size"
   ]
  },
  {
   "cell_type": "markdown",
   "metadata": {
    "id": "_NUwxdYssoDy"
   },
   "source": [
    "## Indexing & Slicing a NumPy array"
   ]
  },
  {
   "cell_type": "markdown",
   "metadata": {
    "id": "NwSqH_7dvUqD"
   },
   "source": [
    "Creating a NumPy array without existing data"
   ]
  },
  {
   "cell_type": "code",
   "execution_count": 27,
   "metadata": {},
   "outputs": [
    {
     "data": {
      "text/plain": [
       "array([1., 1., 2., 3., 5., 8.])"
      ]
     },
     "execution_count": 27,
     "metadata": {},
     "output_type": "execute_result"
    }
   ],
   "source": [
    "sequences_arr[1]"
   ]
  },
  {
   "cell_type": "code",
   "execution_count": 28,
   "metadata": {},
   "outputs": [
    {
     "data": {
      "text/plain": [
       "1.0"
      ]
     },
     "execution_count": 28,
     "metadata": {},
     "output_type": "execute_result"
    }
   ],
   "source": [
    "sequences_arr[1,1]"
   ]
  },
  {
   "cell_type": "code",
   "execution_count": 32,
   "metadata": {},
   "outputs": [
    {
     "data": {
      "text/plain": [
       "array([1., 2., 3.])"
      ]
     },
     "execution_count": 32,
     "metadata": {},
     "output_type": "execute_result"
    }
   ],
   "source": [
    "sequences_arr[1,1:4]"
   ]
  },
  {
   "cell_type": "markdown",
   "metadata": {
    "id": "YE_4xhV6wzfp"
   },
   "source": [
    "## Broadcasting mathematical operations\n"
   ]
  },
  {
   "cell_type": "code",
   "execution_count": 35,
   "metadata": {},
   "outputs": [
    {
     "data": {
      "text/plain": [
       "array([0, 3, 6, 9])"
      ]
     },
     "execution_count": 35,
     "metadata": {},
     "output_type": "execute_result"
    }
   ],
   "source": [
    "np.arange(0, 12, 3)"
   ]
  },
  {
   "cell_type": "code",
   "execution_count": 37,
   "metadata": {},
   "outputs": [
    {
     "data": {
      "text/plain": [
       "array([ 0. , 12.5, 25. , 37.5, 50. ])"
      ]
     },
     "execution_count": 37,
     "metadata": {},
     "output_type": "execute_result"
    }
   ],
   "source": [
    "np.linspace(0, 50, 5)"
   ]
  },
  {
   "cell_type": "code",
   "execution_count": 38,
   "metadata": {},
   "outputs": [
    {
     "data": {
      "text/plain": [
       "array([[0.69722028, 0.56517856, 0.82652401, 0.70342294],\n",
       "       [0.13784969, 0.33604942, 0.829927  , 0.20982258],\n",
       "       [0.33542853, 0.77074451, 0.90403876, 0.83956846],\n",
       "       [0.01648387, 0.73945004, 0.58493704, 0.83779404],\n",
       "       [0.54782004, 0.25724373, 0.70544214, 0.78011799],\n",
       "       [0.94609316, 0.75309903, 0.29371621, 0.88232441],\n",
       "       [0.63367756, 0.7006974 , 0.43364148, 0.81514125],\n",
       "       [0.13716494, 0.94885537, 0.09262473, 0.46583605],\n",
       "       [0.31270814, 0.94075521, 0.41216358, 0.15649174],\n",
       "       [0.77643572, 0.59010908, 0.9638965 , 0.5573501 ],\n",
       "       [0.36885115, 0.23532235, 0.034651  , 0.58988169],\n",
       "       [0.81058288, 0.50693555, 0.32756836, 0.55656362]])"
      ]
     },
     "execution_count": 38,
     "metadata": {},
     "output_type": "execute_result"
    }
   ],
   "source": [
    "np.random.rand(12,4)"
   ]
  },
  {
   "cell_type": "code",
   "execution_count": 40,
   "metadata": {},
   "outputs": [
    {
     "data": {
      "text/plain": [
       "array([[1.35055894, 1.42936212, 1.95541397, 1.76276059],\n",
       "       [1.69619918, 1.69854014, 1.71436336, 1.25622576],\n",
       "       [1.53897949, 1.87933706, 1.69312328, 1.56532529],\n",
       "       [1.00736461, 1.63213398, 1.7149599 , 1.01809973],\n",
       "       [1.90058973, 1.5983709 , 1.02338594, 1.0810359 ],\n",
       "       [1.9299635 , 1.26409523, 1.45377991, 1.58468995],\n",
       "       [1.58917046, 1.20450976, 1.15711108, 1.9694191 ],\n",
       "       [1.92914051, 1.99799104, 1.98146619, 1.24789015],\n",
       "       [1.88116705, 1.77000654, 1.3269944 , 1.1294608 ],\n",
       "       [1.73400884, 1.9327451 , 1.82127299, 1.68494795],\n",
       "       [1.30529625, 1.75595897, 1.09191304, 1.67897859],\n",
       "       [1.65690141, 1.86840644, 1.40346563, 1.49711418]])"
      ]
     },
     "execution_count": 40,
     "metadata": {},
     "output_type": "execute_result"
    }
   ],
   "source": [
    "rand_arr = np.random.rand(12,4)\n",
    "rand_arr +1"
   ]
  },
  {
   "cell_type": "code",
   "execution_count": 42,
   "metadata": {},
   "outputs": [
    {
     "data": {
      "text/plain": [
       "array([[3.82902494, 2.63259168, 2.29286448, 2.85654018],\n",
       "       [3.49977165, 3.67379733, 1.95015846, 3.97591958],\n",
       "       [0.75414679, 0.11576331, 2.43413658, 3.85464189],\n",
       "       [1.40833298, 2.42756275, 0.02339993, 3.04161972],\n",
       "       [0.7405226 , 3.38072141, 2.03815473, 3.50809996],\n",
       "       [1.39880702, 3.06598208, 0.97996356, 0.08592036],\n",
       "       [3.96361885, 3.40874271, 0.69982866, 1.41485224],\n",
       "       [0.46306779, 3.69162951, 2.85860309, 3.61826852],\n",
       "       [0.69727172, 2.2863371 , 2.2291807 , 0.88077487],\n",
       "       [0.15110965, 3.52471744, 0.28833662, 2.90748182],\n",
       "       [2.00302808, 3.95336772, 1.58292048, 3.43956993],\n",
       "       [3.54010903, 2.54256316, 1.48811317, 2.33320804]])"
      ]
     },
     "execution_count": 42,
     "metadata": {},
     "output_type": "execute_result"
    }
   ],
   "source": [
    "rand_arr = np.random.rand(12,4)\n",
    "rand_arr * 4"
   ]
  },
  {
   "cell_type": "code",
   "execution_count": 43,
   "metadata": {},
   "outputs": [
    {
     "data": {
      "text/plain": [
       "array([[3.22974282, 1.89566446, 2.02439721, 1.85931576],\n",
       "       [3.47226886, 0.84942054, 3.8415319 , 0.60142506]])"
      ]
     },
     "execution_count": 43,
     "metadata": {},
     "output_type": "execute_result"
    }
   ],
   "source": [
    "rand_arr = np.random.rand(2,4)\n",
    "rand_arr * 4"
   ]
  },
  {
   "cell_type": "markdown",
   "metadata": {
    "id": "DqElB6aBx2f5"
   },
   "source": [
    "## Aggregators\n"
   ]
  },
  {
   "cell_type": "code",
   "execution_count": 46,
   "metadata": {},
   "outputs": [
    {
     "data": {
      "text/plain": [
       "5.554302064370891"
      ]
     },
     "execution_count": 46,
     "metadata": {},
     "output_type": "execute_result"
    }
   ],
   "source": [
    "tens = rand_arr / 0.1\n",
    "np.average(tens)"
   ]
  },
  {
   "cell_type": "code",
   "execution_count": 47,
   "metadata": {},
   "outputs": [
    {
     "data": {
      "text/plain": [
       "44.434416514967126"
      ]
     },
     "execution_count": 47,
     "metadata": {},
     "output_type": "execute_result"
    }
   ],
   "source": [
    "np.sum(tens)"
   ]
  },
  {
   "cell_type": "markdown",
   "metadata": {
    "id": "8mZNvUVc1xvT"
   },
   "source": [
    "---\n",
    "\n",
    "## **Visualising Data**"
   ]
  },
  {
   "cell_type": "code",
   "execution_count": 48,
   "metadata": {},
   "outputs": [],
   "source": [
    "import matplotlib.pyplot as plt"
   ]
  },
  {
   "cell_type": "code",
   "execution_count": 55,
   "metadata": {},
   "outputs": [
    {
     "data": {
      "text/plain": [
       "array([ 0.        ,  1.57894737,  3.15789474,  4.73684211,  6.31578947,\n",
       "        7.89473684,  9.47368421, 11.05263158, 12.63157895, 14.21052632,\n",
       "       15.78947368, 17.36842105, 18.94736842, 20.52631579, 22.10526316,\n",
       "       23.68421053, 25.26315789, 26.84210526, 28.42105263, 30.        ])"
      ]
     },
     "execution_count": 55,
     "metadata": {},
     "output_type": "execute_result"
    }
   ],
   "source": [
    "x = np.linspace (0, 30, 20)\n",
    "x"
   ]
  },
  {
   "cell_type": "code",
   "execution_count": 57,
   "metadata": {},
   "outputs": [
    {
     "data": {
      "text/plain": [
       "[<matplotlib.lines.Line2D at 0x1bd620118e0>]"
      ]
     },
     "execution_count": 57,
     "metadata": {},
     "output_type": "execute_result"
    },
    {
     "data": {
      "image/png": "[encoded data removed]",
      "text/plain": [
       "<Figure size 432x288 with 1 Axes>"
      ]
     },
     "metadata": {
      "needs_background": "light"
     },
     "output_type": "display_data"
    }
   ],
   "source": [
    "plt.plot(x)"
   ]
  },
  {
   "cell_type": "code",
   "execution_count": 56,
   "metadata": {},
   "outputs": [
    {
     "data": {
      "text/plain": [
       "[<matplotlib.lines.Line2D at 0x1bd61fb6d30>]"
      ]
     },
     "execution_count": 56,
     "metadata": {},
     "output_type": "execute_result"
    },
    {
     "data": {
      "image/png": "[encoded data removed]",
      "text/plain": [
       "<Figure size 432x288 with 1 Axes>"
      ]
     },
     "metadata": {
      "needs_background": "light"
     },
     "output_type": "display_data"
    }
   ],
   "source": [
    "plt.plot(x**2)"
   ]
  },
  {
   "cell_type": "code",
   "execution_count": 60,
   "metadata": {},
   "outputs": [
    {
     "data": {
      "text/plain": [
       "[<matplotlib.lines.Line2D at 0x1bd620d7460>]"
      ]
     },
     "execution_count": 60,
     "metadata": {},
     "output_type": "execute_result"
    },
    {
     "data": {
      "image/png": "[encoded data removed]",
      "text/plain": [
       "<Figure size 432x288 with 1 Axes>"
      ]
     },
     "metadata": {
      "needs_background": "light"
     },
     "output_type": "display_data"
    }
   ],
   "source": [
    "plt.plot(np.sin(np.linspace (0, 30, 200)))"
   ]
  },
  {
   "cell_type": "markdown",
   "metadata": {
    "id": "EChmlCYJ5Kny"
   },
   "source": [
    "---\n",
    "## **Pandas**"
   ]
  },
  {
   "cell_type": "code",
   "execution_count": 61,
   "metadata": {},
   "outputs": [],
   "source": [
    "import pandas as pd"
   ]
  },
  {
   "cell_type": "markdown",
   "metadata": {
    "id": "7AlmT6Vt5ODp"
   },
   "source": [
    "### Series Objects"
   ]
  },
  {
   "cell_type": "code",
   "execution_count": 66,
   "metadata": {},
   "outputs": [
    {
     "data": {
      "text/plain": [
       "0    1.0\n",
       "1    2.0\n",
       "2    3.0\n",
       "3    4.0\n",
       "4    5.0\n",
       "Name: nums, dtype: float64"
      ]
     },
     "execution_count": 66,
     "metadata": {},
     "output_type": "execute_result"
    }
   ],
   "source": [
    "series_from_list = pd.Series([1,2,3,4,5], dtype='float64', name='nums')\n",
    "series_from_list"
   ]
  },
  {
   "cell_type": "code",
   "execution_count": 68,
   "metadata": {},
   "outputs": [
    {
     "data": {
      "text/plain": [
       "0     3\n",
       "1     6\n",
       "2     9\n",
       "3    12\n",
       "4    15\n",
       "dtype: int64"
      ]
     },
     "execution_count": 68,
     "metadata": {},
     "output_type": "execute_result"
    }
   ],
   "source": [
    "series_from_dict = pd.Series({0:3, 1:6, 2:9, 3:12, 4:15})\n",
    "series_from_dict\n",
    "\n",
    "# Keys need to be unique, so that is why they have been over-written"
   ]
  },
  {
   "cell_type": "code",
   "execution_count": 70,
   "metadata": {},
   "outputs": [
    {
     "data": {
      "text/plain": [
       "Int64Index([0, 1, 2, 3, 4], dtype='int64')"
      ]
     },
     "execution_count": 70,
     "metadata": {},
     "output_type": "execute_result"
    }
   ],
   "source": [
    "series_from_dict.index\n",
    "#Shows us the keys"
   ]
  },
  {
   "cell_type": "code",
   "execution_count": 72,
   "metadata": {},
   "outputs": [
    {
     "data": {
      "text/plain": [
       "0     1\n",
       "1     3\n",
       "2    45\n",
       "dtype: object"
      ]
     },
     "execution_count": 72,
     "metadata": {},
     "output_type": "execute_result"
    }
   ],
   "source": [
    "messy = pd.Series([1.0, \"3\", 45])\n",
    "messy"
   ]
  },
  {
   "cell_type": "code",
   "execution_count": 74,
   "metadata": {},
   "outputs": [
    {
     "data": {
      "text/plain": [
       "0     1.0\n",
       "1     3.0\n",
       "2    45.0\n",
       "dtype: float64"
      ]
     },
     "execution_count": 74,
     "metadata": {},
     "output_type": "execute_result"
    }
   ],
   "source": [
    "tidy = pd.to_numeric(messy)\n",
    "tidy"
   ]
  },
  {
   "cell_type": "code",
   "execution_count": 76,
   "metadata": {},
   "outputs": [
    {
     "data": {
      "text/plain": [
       "0     1.0\n",
       "1     3.0\n",
       "2    45.0\n",
       "Name: numerics, dtype: float64"
      ]
     },
     "execution_count": 76,
     "metadata": {},
     "output_type": "execute_result"
    }
   ],
   "source": [
    "tidy.rename('numerics', inplace=True)"
   ]
  },
  {
   "cell_type": "code",
   "execution_count": 77,
   "metadata": {},
   "outputs": [
    {
     "data": {
      "text/plain": [
       "0     1.0\n",
       "1     3.0\n",
       "2    45.0\n",
       "Name: numerics, dtype: float64"
      ]
     },
     "execution_count": 77,
     "metadata": {},
     "output_type": "execute_result"
    }
   ],
   "source": [
    "tidy"
   ]
  },
  {
   "cell_type": "markdown",
   "metadata": {
    "id": "mzFRsnc28Ixl"
   },
   "source": [
    "### DataFrame Objects"
   ]
  },
  {
   "cell_type": "code",
   "execution_count": 82,
   "metadata": {},
   "outputs": [
    {
     "data": {
      "text/plain": [
       "{'Super Mario Bros.': 40240000,\n",
       " 'Duck Hunt': 28300000,\n",
       " 'Super Mario Bros. 3': 18000000,\n",
       " 'Super Mario Bros. 2': 7460000,\n",
       " 'The Legend of Zelda': 6510000,\n",
       " 'Tetris': 5580000,\n",
       " 'Dr. Mario': 4850000,\n",
       " 'Zelda II: The Adventure of Link': 4380000,\n",
       " 'Excitebike': 4160000,\n",
       " 'Golf': 4010000}"
      ]
     },
     "execution_count": 82,
     "metadata": {},
     "output_type": "execute_result"
    }
   ],
   "source": [
    "with open('data/nes_top_10_sales.json') as data:\n",
    "    sales_data = json.load(data)\n",
    "    \n",
    "with open('data/nes_top_10_years.json') as data:\n",
    "    years_data = json.load(data)\n",
    "    \n",
    "sales_data"
   ]
  },
  {
   "cell_type": "code",
   "execution_count": 83,
   "metadata": {},
   "outputs": [
    {
     "data": {
      "text/plain": [
       "Super Mario Bros.                  40240000\n",
       "Duck Hunt                          28300000\n",
       "Super Mario Bros. 3                18000000\n",
       "Super Mario Bros. 2                 7460000\n",
       "The Legend of Zelda                 6510000\n",
       "Tetris                              5580000\n",
       "Dr. Mario                           4850000\n",
       "Zelda II: The Adventure of Link     4380000\n",
       "Excitebike                          4160000\n",
       "Golf                                4010000\n",
       "dtype: int64"
      ]
     },
     "execution_count": 83,
     "metadata": {},
     "output_type": "execute_result"
    }
   ],
   "source": [
    "top_NES_Sales_series = pd.Series(sales_data)\n",
    "top_NES_Sales_series"
   ]
  },
  {
   "cell_type": "code",
   "execution_count": 84,
   "metadata": {},
   "outputs": [
    {
     "data": {
      "text/plain": [
       "Super Mario Bros.                  September 13, 1985\n",
       "Duck Hunt                              April 21, 1984\n",
       "Super Mario Bros. 3                  October 23, 1988\n",
       "Super Mario Bros. 2                   October 9, 1988\n",
       "The Legend of Zelda                 February 21, 1986\n",
       "Tetris                                  November 1989\n",
       "Dr. Mario                               July 27, 1990\n",
       "Zelda II: The Adventure of Link      January 14, 1987\n",
       "Excitebike                          November 30, 1984\n",
       "Golf                                      May 1, 1984\n",
       "dtype: object"
      ]
     },
     "execution_count": 84,
     "metadata": {},
     "output_type": "execute_result"
    }
   ],
   "source": [
    "top_NES_Years_series = pd.Series(years_data)\n",
    "top_NES_Years_series"
   ]
  },
  {
   "cell_type": "code",
   "execution_count": 89,
   "metadata": {},
   "outputs": [
    {
     "data": {
      "text/html": [
       "<div>\n",
       "<style scoped>\n",
       "    .dataframe tbody tr th:only-of-type {\n",
       "        vertical-align: middle;\n",
       "    }\n",
       "\n",
       "    .dataframe tbody tr th {\n",
       "        vertical-align: top;\n",
       "    }\n",
       "\n",
       "    .dataframe thead th {\n",
       "        text-align: right;\n",
       "    }\n",
       "</style>\n",
       "<table border=\"1\" class=\"dataframe\">\n",
       "  <thead>\n",
       "    <tr style=\"text-align: right;\">\n",
       "      <th></th>\n",
       "      <th>Sales</th>\n",
       "      <th>Release Date</th>\n",
       "    </tr>\n",
       "  </thead>\n",
       "  <tbody>\n",
       "    <tr>\n",
       "      <th>Super Mario Bros.</th>\n",
       "      <td>40240000</td>\n",
       "      <td>September 13, 1985</td>\n",
       "    </tr>\n",
       "    <tr>\n",
       "      <th>Duck Hunt</th>\n",
       "      <td>28300000</td>\n",
       "      <td>April 21, 1984</td>\n",
       "    </tr>\n",
       "    <tr>\n",
       "      <th>Super Mario Bros. 3</th>\n",
       "      <td>18000000</td>\n",
       "      <td>October 23, 1988</td>\n",
       "    </tr>\n",
       "    <tr>\n",
       "      <th>Super Mario Bros. 2</th>\n",
       "      <td>7460000</td>\n",
       "      <td>October 9, 1988</td>\n",
       "    </tr>\n",
       "    <tr>\n",
       "      <th>The Legend of Zelda</th>\n",
       "      <td>6510000</td>\n",
       "      <td>February 21, 1986</td>\n",
       "    </tr>\n",
       "    <tr>\n",
       "      <th>Tetris</th>\n",
       "      <td>5580000</td>\n",
       "      <td>November 1989</td>\n",
       "    </tr>\n",
       "    <tr>\n",
       "      <th>Dr. Mario</th>\n",
       "      <td>4850000</td>\n",
       "      <td>July 27, 1990</td>\n",
       "    </tr>\n",
       "    <tr>\n",
       "      <th>Zelda II: The Adventure of Link</th>\n",
       "      <td>4380000</td>\n",
       "      <td>January 14, 1987</td>\n",
       "    </tr>\n",
       "    <tr>\n",
       "      <th>Excitebike</th>\n",
       "      <td>4160000</td>\n",
       "      <td>November 30, 1984</td>\n",
       "    </tr>\n",
       "    <tr>\n",
       "      <th>Golf</th>\n",
       "      <td>4010000</td>\n",
       "      <td>May 1, 1984</td>\n",
       "    </tr>\n",
       "  </tbody>\n",
       "</table>\n",
       "</div>"
      ],
      "text/plain": [
       "                                    Sales        Release Date\n",
       "Super Mario Bros.                40240000  September 13, 1985\n",
       "Duck Hunt                        28300000      April 21, 1984\n",
       "Super Mario Bros. 3              18000000    October 23, 1988\n",
       "Super Mario Bros. 2               7460000     October 9, 1988\n",
       "The Legend of Zelda               6510000   February 21, 1986\n",
       "Tetris                            5580000       November 1989\n",
       "Dr. Mario                         4850000       July 27, 1990\n",
       "Zelda II: The Adventure of Link   4380000    January 14, 1987\n",
       "Excitebike                        4160000   November 30, 1984\n",
       "Golf                              4010000         May 1, 1984"
      ]
     },
     "execution_count": 89,
     "metadata": {},
     "output_type": "execute_result"
    }
   ],
   "source": [
    "sales_and_years = pd.DataFrame({'Sales': top_NES_Sales_series, 'Release Date': top_NES_Years_series })\n",
    "sales_and_years"
   ]
  },
  {
   "cell_type": "code",
   "execution_count": 92,
   "metadata": {},
   "outputs": [
    {
     "data": {
      "text/html": [
       "<div>\n",
       "<style scoped>\n",
       "    .dataframe tbody tr th:only-of-type {\n",
       "        vertical-align: middle;\n",
       "    }\n",
       "\n",
       "    .dataframe tbody tr th {\n",
       "        vertical-align: top;\n",
       "    }\n",
       "\n",
       "    .dataframe thead th {\n",
       "        text-align: right;\n",
       "    }\n",
       "</style>\n",
       "<table border=\"1\" class=\"dataframe\">\n",
       "  <thead>\n",
       "    <tr style=\"text-align: right;\">\n",
       "      <th></th>\n",
       "      <th>Sales</th>\n",
       "      <th>Release Date</th>\n",
       "    </tr>\n",
       "  </thead>\n",
       "  <tbody>\n",
       "    <tr>\n",
       "      <th>Super Mario Bros.</th>\n",
       "      <td>40240000</td>\n",
       "      <td>September 13, 1985</td>\n",
       "    </tr>\n",
       "    <tr>\n",
       "      <th>Duck Hunt</th>\n",
       "      <td>28300000</td>\n",
       "      <td>April 21, 1984</td>\n",
       "    </tr>\n",
       "    <tr>\n",
       "      <th>Super Mario Bros. 3</th>\n",
       "      <td>18000000</td>\n",
       "      <td>October 23, 1988</td>\n",
       "    </tr>\n",
       "    <tr>\n",
       "      <th>Super Mario Bros. 2</th>\n",
       "      <td>7460000</td>\n",
       "      <td>October 9, 1988</td>\n",
       "    </tr>\n",
       "    <tr>\n",
       "      <th>The Legend of Zelda</th>\n",
       "      <td>6510000</td>\n",
       "      <td>February 21, 1986</td>\n",
       "    </tr>\n",
       "  </tbody>\n",
       "</table>\n",
       "</div>"
      ],
      "text/plain": [
       "                        Sales        Release Date\n",
       "Super Mario Bros.    40240000  September 13, 1985\n",
       "Duck Hunt            28300000      April 21, 1984\n",
       "Super Mario Bros. 3  18000000    October 23, 1988\n",
       "Super Mario Bros. 2   7460000     October 9, 1988\n",
       "The Legend of Zelda   6510000   February 21, 1986"
      ]
     },
     "execution_count": 92,
     "metadata": {},
     "output_type": "execute_result"
    }
   ],
   "source": [
    "sales_and_years.head()"
   ]
  },
  {
   "cell_type": "code",
   "execution_count": 93,
   "metadata": {},
   "outputs": [
    {
     "data": {
      "text/html": [
       "<div>\n",
       "<style scoped>\n",
       "    .dataframe tbody tr th:only-of-type {\n",
       "        vertical-align: middle;\n",
       "    }\n",
       "\n",
       "    .dataframe tbody tr th {\n",
       "        vertical-align: top;\n",
       "    }\n",
       "\n",
       "    .dataframe thead th {\n",
       "        text-align: right;\n",
       "    }\n",
       "</style>\n",
       "<table border=\"1\" class=\"dataframe\">\n",
       "  <thead>\n",
       "    <tr style=\"text-align: right;\">\n",
       "      <th></th>\n",
       "      <th>Sales</th>\n",
       "      <th>Release Date</th>\n",
       "    </tr>\n",
       "  </thead>\n",
       "  <tbody>\n",
       "    <tr>\n",
       "      <th>Tetris</th>\n",
       "      <td>5580000</td>\n",
       "      <td>November 1989</td>\n",
       "    </tr>\n",
       "    <tr>\n",
       "      <th>Dr. Mario</th>\n",
       "      <td>4850000</td>\n",
       "      <td>July 27, 1990</td>\n",
       "    </tr>\n",
       "    <tr>\n",
       "      <th>Zelda II: The Adventure of Link</th>\n",
       "      <td>4380000</td>\n",
       "      <td>January 14, 1987</td>\n",
       "    </tr>\n",
       "    <tr>\n",
       "      <th>Excitebike</th>\n",
       "      <td>4160000</td>\n",
       "      <td>November 30, 1984</td>\n",
       "    </tr>\n",
       "    <tr>\n",
       "      <th>Golf</th>\n",
       "      <td>4010000</td>\n",
       "      <td>May 1, 1984</td>\n",
       "    </tr>\n",
       "  </tbody>\n",
       "</table>\n",
       "</div>"
      ],
      "text/plain": [
       "                                   Sales       Release Date\n",
       "Tetris                           5580000      November 1989\n",
       "Dr. Mario                        4850000      July 27, 1990\n",
       "Zelda II: The Adventure of Link  4380000   January 14, 1987\n",
       "Excitebike                       4160000  November 30, 1984\n",
       "Golf                             4010000        May 1, 1984"
      ]
     },
     "execution_count": 93,
     "metadata": {},
     "output_type": "execute_result"
    }
   ],
   "source": [
    "sales_and_years.tail()"
   ]
  },
  {
   "cell_type": "code",
   "execution_count": 94,
   "metadata": {},
   "outputs": [
    {
     "name": "stdout",
     "output_type": "stream",
     "text": [
      "<class 'pandas.core.frame.DataFrame'>\n",
      "Index: 10 entries, Super Mario Bros. to Golf\n",
      "Data columns (total 2 columns):\n",
      " #   Column        Non-Null Count  Dtype \n",
      "---  ------        --------------  ----- \n",
      " 0   Sales         10 non-null     int64 \n",
      " 1   Release Date  10 non-null     object\n",
      "dtypes: int64(1), object(1)\n",
      "memory usage: 560.0+ bytes\n"
     ]
    }
   ],
   "source": [
    "sales_and_years.info()"
   ]
  },
  {
   "cell_type": "code",
   "execution_count": 98,
   "metadata": {},
   "outputs": [
    {
     "data": {
      "text/html": [
       "<div>\n",
       "<style scoped>\n",
       "    .dataframe tbody tr th:only-of-type {\n",
       "        vertical-align: middle;\n",
       "    }\n",
       "\n",
       "    .dataframe tbody tr th {\n",
       "        vertical-align: top;\n",
       "    }\n",
       "\n",
       "    .dataframe thead th {\n",
       "        text-align: right;\n",
       "    }\n",
       "</style>\n",
       "<table border=\"1\" class=\"dataframe\">\n",
       "  <thead>\n",
       "    <tr style=\"text-align: right;\">\n",
       "      <th></th>\n",
       "      <th>Sales</th>\n",
       "      <th>Release Date</th>\n",
       "    </tr>\n",
       "  </thead>\n",
       "  <tbody>\n",
       "    <tr>\n",
       "      <th>Golf</th>\n",
       "      <td>4010000</td>\n",
       "      <td>May 1, 1984</td>\n",
       "    </tr>\n",
       "    <tr>\n",
       "      <th>Excitebike</th>\n",
       "      <td>4160000</td>\n",
       "      <td>November 30, 1984</td>\n",
       "    </tr>\n",
       "    <tr>\n",
       "      <th>Zelda II: The Adventure of Link</th>\n",
       "      <td>4380000</td>\n",
       "      <td>January 14, 1987</td>\n",
       "    </tr>\n",
       "    <tr>\n",
       "      <th>Dr. Mario</th>\n",
       "      <td>4850000</td>\n",
       "      <td>July 27, 1990</td>\n",
       "    </tr>\n",
       "    <tr>\n",
       "      <th>Tetris</th>\n",
       "      <td>5580000</td>\n",
       "      <td>November 1989</td>\n",
       "    </tr>\n",
       "    <tr>\n",
       "      <th>The Legend of Zelda</th>\n",
       "      <td>6510000</td>\n",
       "      <td>February 21, 1986</td>\n",
       "    </tr>\n",
       "    <tr>\n",
       "      <th>Super Mario Bros. 2</th>\n",
       "      <td>7460000</td>\n",
       "      <td>October 9, 1988</td>\n",
       "    </tr>\n",
       "    <tr>\n",
       "      <th>Super Mario Bros. 3</th>\n",
       "      <td>18000000</td>\n",
       "      <td>October 23, 1988</td>\n",
       "    </tr>\n",
       "    <tr>\n",
       "      <th>Duck Hunt</th>\n",
       "      <td>28300000</td>\n",
       "      <td>April 21, 1984</td>\n",
       "    </tr>\n",
       "    <tr>\n",
       "      <th>Super Mario Bros.</th>\n",
       "      <td>40240000</td>\n",
       "      <td>September 13, 1985</td>\n",
       "    </tr>\n",
       "  </tbody>\n",
       "</table>\n",
       "</div>"
      ],
      "text/plain": [
       "                                    Sales        Release Date\n",
       "Golf                              4010000         May 1, 1984\n",
       "Excitebike                        4160000   November 30, 1984\n",
       "Zelda II: The Adventure of Link   4380000    January 14, 1987\n",
       "Dr. Mario                         4850000       July 27, 1990\n",
       "Tetris                            5580000       November 1989\n",
       "The Legend of Zelda               6510000   February 21, 1986\n",
       "Super Mario Bros. 2               7460000     October 9, 1988\n",
       "Super Mario Bros. 3              18000000    October 23, 1988\n",
       "Duck Hunt                        28300000      April 21, 1984\n",
       "Super Mario Bros.                40240000  September 13, 1985"
      ]
     },
     "execution_count": 98,
     "metadata": {},
     "output_type": "execute_result"
    }
   ],
   "source": [
    "sales_and_years.sort_values('Sales')"
   ]
  },
  {
   "cell_type": "code",
   "execution_count": 99,
   "metadata": {},
   "outputs": [
    {
     "data": {
      "text/html": [
       "<div>\n",
       "<style scoped>\n",
       "    .dataframe tbody tr th:only-of-type {\n",
       "        vertical-align: middle;\n",
       "    }\n",
       "\n",
       "    .dataframe tbody tr th {\n",
       "        vertical-align: top;\n",
       "    }\n",
       "\n",
       "    .dataframe thead th {\n",
       "        text-align: right;\n",
       "    }\n",
       "</style>\n",
       "<table border=\"1\" class=\"dataframe\">\n",
       "  <thead>\n",
       "    <tr style=\"text-align: right;\">\n",
       "      <th></th>\n",
       "      <th>Sales</th>\n",
       "      <th>Release Date</th>\n",
       "    </tr>\n",
       "  </thead>\n",
       "  <tbody>\n",
       "    <tr>\n",
       "      <th>Duck Hunt</th>\n",
       "      <td>28300000</td>\n",
       "      <td>April 21, 1984</td>\n",
       "    </tr>\n",
       "    <tr>\n",
       "      <th>The Legend of Zelda</th>\n",
       "      <td>6510000</td>\n",
       "      <td>February 21, 1986</td>\n",
       "    </tr>\n",
       "    <tr>\n",
       "      <th>Zelda II: The Adventure of Link</th>\n",
       "      <td>4380000</td>\n",
       "      <td>January 14, 1987</td>\n",
       "    </tr>\n",
       "    <tr>\n",
       "      <th>Dr. Mario</th>\n",
       "      <td>4850000</td>\n",
       "      <td>July 27, 1990</td>\n",
       "    </tr>\n",
       "    <tr>\n",
       "      <th>Golf</th>\n",
       "      <td>4010000</td>\n",
       "      <td>May 1, 1984</td>\n",
       "    </tr>\n",
       "    <tr>\n",
       "      <th>Tetris</th>\n",
       "      <td>5580000</td>\n",
       "      <td>November 1989</td>\n",
       "    </tr>\n",
       "    <tr>\n",
       "      <th>Excitebike</th>\n",
       "      <td>4160000</td>\n",
       "      <td>November 30, 1984</td>\n",
       "    </tr>\n",
       "    <tr>\n",
       "      <th>Super Mario Bros. 3</th>\n",
       "      <td>18000000</td>\n",
       "      <td>October 23, 1988</td>\n",
       "    </tr>\n",
       "    <tr>\n",
       "      <th>Super Mario Bros. 2</th>\n",
       "      <td>7460000</td>\n",
       "      <td>October 9, 1988</td>\n",
       "    </tr>\n",
       "    <tr>\n",
       "      <th>Super Mario Bros.</th>\n",
       "      <td>40240000</td>\n",
       "      <td>September 13, 1985</td>\n",
       "    </tr>\n",
       "  </tbody>\n",
       "</table>\n",
       "</div>"
      ],
      "text/plain": [
       "                                    Sales        Release Date\n",
       "Duck Hunt                        28300000      April 21, 1984\n",
       "The Legend of Zelda               6510000   February 21, 1986\n",
       "Zelda II: The Adventure of Link   4380000    January 14, 1987\n",
       "Dr. Mario                         4850000       July 27, 1990\n",
       "Golf                              4010000         May 1, 1984\n",
       "Tetris                            5580000       November 1989\n",
       "Excitebike                        4160000   November 30, 1984\n",
       "Super Mario Bros. 3              18000000    October 23, 1988\n",
       "Super Mario Bros. 2               7460000     October 9, 1988\n",
       "Super Mario Bros.                40240000  September 13, 1985"
      ]
     },
     "execution_count": 99,
     "metadata": {},
     "output_type": "execute_result"
    }
   ],
   "source": [
    "sales_and_years.sort_values('Release Date')"
   ]
  },
  {
   "cell_type": "code",
   "execution_count": 101,
   "metadata": {},
   "outputs": [
    {
     "data": {
      "text/html": [
       "<div>\n",
       "<style scoped>\n",
       "    .dataframe tbody tr th:only-of-type {\n",
       "        vertical-align: middle;\n",
       "    }\n",
       "\n",
       "    .dataframe tbody tr th {\n",
       "        vertical-align: top;\n",
       "    }\n",
       "\n",
       "    .dataframe thead th {\n",
       "        text-align: right;\n",
       "    }\n",
       "</style>\n",
       "<table border=\"1\" class=\"dataframe\">\n",
       "  <thead>\n",
       "    <tr style=\"text-align: right;\">\n",
       "      <th></th>\n",
       "      <th>Sales</th>\n",
       "      <th>Release Date</th>\n",
       "    </tr>\n",
       "  </thead>\n",
       "  <tbody>\n",
       "    <tr>\n",
       "      <th>Dr. Mario</th>\n",
       "      <td>4850000</td>\n",
       "      <td>July 27, 1990</td>\n",
       "    </tr>\n",
       "    <tr>\n",
       "      <th>Duck Hunt</th>\n",
       "      <td>28300000</td>\n",
       "      <td>April 21, 1984</td>\n",
       "    </tr>\n",
       "    <tr>\n",
       "      <th>Excitebike</th>\n",
       "      <td>4160000</td>\n",
       "      <td>November 30, 1984</td>\n",
       "    </tr>\n",
       "    <tr>\n",
       "      <th>Golf</th>\n",
       "      <td>4010000</td>\n",
       "      <td>May 1, 1984</td>\n",
       "    </tr>\n",
       "    <tr>\n",
       "      <th>Super Mario Bros.</th>\n",
       "      <td>40240000</td>\n",
       "      <td>September 13, 1985</td>\n",
       "    </tr>\n",
       "    <tr>\n",
       "      <th>Super Mario Bros. 2</th>\n",
       "      <td>7460000</td>\n",
       "      <td>October 9, 1988</td>\n",
       "    </tr>\n",
       "    <tr>\n",
       "      <th>Super Mario Bros. 3</th>\n",
       "      <td>18000000</td>\n",
       "      <td>October 23, 1988</td>\n",
       "    </tr>\n",
       "    <tr>\n",
       "      <th>Tetris</th>\n",
       "      <td>5580000</td>\n",
       "      <td>November 1989</td>\n",
       "    </tr>\n",
       "    <tr>\n",
       "      <th>The Legend of Zelda</th>\n",
       "      <td>6510000</td>\n",
       "      <td>February 21, 1986</td>\n",
       "    </tr>\n",
       "    <tr>\n",
       "      <th>Zelda II: The Adventure of Link</th>\n",
       "      <td>4380000</td>\n",
       "      <td>January 14, 1987</td>\n",
       "    </tr>\n",
       "  </tbody>\n",
       "</table>\n",
       "</div>"
      ],
      "text/plain": [
       "                                    Sales        Release Date\n",
       "Dr. Mario                         4850000       July 27, 1990\n",
       "Duck Hunt                        28300000      April 21, 1984\n",
       "Excitebike                        4160000   November 30, 1984\n",
       "Golf                              4010000         May 1, 1984\n",
       "Super Mario Bros.                40240000  September 13, 1985\n",
       "Super Mario Bros. 2               7460000     October 9, 1988\n",
       "Super Mario Bros. 3              18000000    October 23, 1988\n",
       "Tetris                            5580000       November 1989\n",
       "The Legend of Zelda               6510000   February 21, 1986\n",
       "Zelda II: The Adventure of Link   4380000    January 14, 1987"
      ]
     },
     "execution_count": 101,
     "metadata": {},
     "output_type": "execute_result"
    }
   ],
   "source": [
    "sales_and_years.sort_index()"
   ]
  },
  {
   "cell_type": "markdown",
   "metadata": {
    "id": "lqNSx8-7ACGv"
   },
   "source": [
    "### Create DataFrame from CSV\n"
   ]
  },
  {
   "cell_type": "markdown",
   "metadata": {
    "id": "WybkY4MZHVgt"
   },
   "source": [
    "---\n",
    "\n",
    "## **Cleaning Data**"
   ]
  },
  {
   "cell_type": "code",
   "execution_count": 104,
   "metadata": {},
   "outputs": [
    {
     "data": {
      "text/plain": [
       "Index(['Super Mario Bros.', 'Duck Hunt', 'Super Mario Bros. 3',\n",
       "       'Super Mario Bros. 2', 'The Legend of Zelda', 'Tetris', 'Dr. Mario',\n",
       "       'Zelda II: The Adventure of Link', 'Excitebike', 'Golf'],\n",
       "      dtype='object')"
      ]
     },
     "execution_count": 104,
     "metadata": {},
     "output_type": "execute_result"
    }
   ],
   "source": [
    "sales_and_years.index"
   ]
  },
  {
   "cell_type": "code",
   "execution_count": 106,
   "metadata": {},
   "outputs": [
    {
     "data": {
      "text/plain": [
       "Super Mario Bros.                  September 13, 1985\n",
       "Duck Hunt                              April 21, 1984\n",
       "Super Mario Bros. 3                  October 23, 1988\n",
       "Super Mario Bros. 2                   October 9, 1988\n",
       "The Legend of Zelda                 February 21, 1986\n",
       "Tetris                                  November 1989\n",
       "Dr. Mario                               July 27, 1990\n",
       "Zelda II: The Adventure of Link      January 14, 1987\n",
       "Excitebike                          November 30, 1984\n",
       "Golf                                      May 1, 1984\n",
       "Name: Release Date, dtype: object"
      ]
     },
     "execution_count": 106,
     "metadata": {},
     "output_type": "execute_result"
    }
   ],
   "source": [
    "sales_and_years['Release Date']"
   ]
  },
  {
   "cell_type": "code",
   "execution_count": 107,
   "metadata": {},
   "outputs": [],
   "source": [
    "sales_and_years['Release Date'] = pd.to_datetime(sales_and_years['Release Date'])"
   ]
  },
  {
   "cell_type": "code",
   "execution_count": 108,
   "metadata": {},
   "outputs": [
    {
     "name": "stdout",
     "output_type": "stream",
     "text": [
      "<class 'pandas.core.frame.DataFrame'>\n",
      "Index: 10 entries, Super Mario Bros. to Golf\n",
      "Data columns (total 2 columns):\n",
      " #   Column        Non-Null Count  Dtype         \n",
      "---  ------        --------------  -----         \n",
      " 0   Sales         10 non-null     int64         \n",
      " 1   Release Date  10 non-null     datetime64[ns]\n",
      "dtypes: datetime64[ns](1), int64(1)\n",
      "memory usage: 560.0+ bytes\n"
     ]
    }
   ],
   "source": [
    "sales_and_years.info()"
   ]
  },
  {
   "cell_type": "code",
   "execution_count": 109,
   "metadata": {},
   "outputs": [
    {
     "data": {
      "text/html": [
       "<div>\n",
       "<style scoped>\n",
       "    .dataframe tbody tr th:only-of-type {\n",
       "        vertical-align: middle;\n",
       "    }\n",
       "\n",
       "    .dataframe tbody tr th {\n",
       "        vertical-align: top;\n",
       "    }\n",
       "\n",
       "    .dataframe thead th {\n",
       "        text-align: right;\n",
       "    }\n",
       "</style>\n",
       "<table border=\"1\" class=\"dataframe\">\n",
       "  <thead>\n",
       "    <tr style=\"text-align: right;\">\n",
       "      <th></th>\n",
       "      <th>Sales</th>\n",
       "      <th>Release Date</th>\n",
       "    </tr>\n",
       "  </thead>\n",
       "  <tbody>\n",
       "    <tr>\n",
       "      <th>Super Mario Bros.</th>\n",
       "      <td>40240000</td>\n",
       "      <td>1985-09-13</td>\n",
       "    </tr>\n",
       "    <tr>\n",
       "      <th>Duck Hunt</th>\n",
       "      <td>28300000</td>\n",
       "      <td>1984-04-21</td>\n",
       "    </tr>\n",
       "    <tr>\n",
       "      <th>Super Mario Bros. 3</th>\n",
       "      <td>18000000</td>\n",
       "      <td>1988-10-23</td>\n",
       "    </tr>\n",
       "    <tr>\n",
       "      <th>Super Mario Bros. 2</th>\n",
       "      <td>7460000</td>\n",
       "      <td>1988-10-09</td>\n",
       "    </tr>\n",
       "    <tr>\n",
       "      <th>The Legend of Zelda</th>\n",
       "      <td>6510000</td>\n",
       "      <td>1986-02-21</td>\n",
       "    </tr>\n",
       "    <tr>\n",
       "      <th>Tetris</th>\n",
       "      <td>5580000</td>\n",
       "      <td>1989-11-01</td>\n",
       "    </tr>\n",
       "    <tr>\n",
       "      <th>Dr. Mario</th>\n",
       "      <td>4850000</td>\n",
       "      <td>1990-07-27</td>\n",
       "    </tr>\n",
       "    <tr>\n",
       "      <th>Zelda II: The Adventure of Link</th>\n",
       "      <td>4380000</td>\n",
       "      <td>1987-01-14</td>\n",
       "    </tr>\n",
       "    <tr>\n",
       "      <th>Excitebike</th>\n",
       "      <td>4160000</td>\n",
       "      <td>1984-11-30</td>\n",
       "    </tr>\n",
       "    <tr>\n",
       "      <th>Golf</th>\n",
       "      <td>4010000</td>\n",
       "      <td>1984-05-01</td>\n",
       "    </tr>\n",
       "  </tbody>\n",
       "</table>\n",
       "</div>"
      ],
      "text/plain": [
       "                                    Sales Release Date\n",
       "Super Mario Bros.                40240000   1985-09-13\n",
       "Duck Hunt                        28300000   1984-04-21\n",
       "Super Mario Bros. 3              18000000   1988-10-23\n",
       "Super Mario Bros. 2               7460000   1988-10-09\n",
       "The Legend of Zelda               6510000   1986-02-21\n",
       "Tetris                            5580000   1989-11-01\n",
       "Dr. Mario                         4850000   1990-07-27\n",
       "Zelda II: The Adventure of Link   4380000   1987-01-14\n",
       "Excitebike                        4160000   1984-11-30\n",
       "Golf                              4010000   1984-05-01"
      ]
     },
     "execution_count": 109,
     "metadata": {},
     "output_type": "execute_result"
    }
   ],
   "source": [
    "sales_and_years"
   ]
  },
  {
   "cell_type": "code",
   "execution_count": 110,
   "metadata": {},
   "outputs": [
    {
     "data": {
      "text/html": [
       "<div>\n",
       "<style scoped>\n",
       "    .dataframe tbody tr th:only-of-type {\n",
       "        vertical-align: middle;\n",
       "    }\n",
       "\n",
       "    .dataframe tbody tr th {\n",
       "        vertical-align: top;\n",
       "    }\n",
       "\n",
       "    .dataframe thead th {\n",
       "        text-align: right;\n",
       "    }\n",
       "</style>\n",
       "<table border=\"1\" class=\"dataframe\">\n",
       "  <thead>\n",
       "    <tr style=\"text-align: right;\">\n",
       "      <th></th>\n",
       "      <th>Release Date</th>\n",
       "    </tr>\n",
       "  </thead>\n",
       "  <tbody>\n",
       "    <tr>\n",
       "      <th>Super Mario Bros.</th>\n",
       "      <td>1985-09-13</td>\n",
       "    </tr>\n",
       "    <tr>\n",
       "      <th>Duck Hunt</th>\n",
       "      <td>1984-04-21</td>\n",
       "    </tr>\n",
       "    <tr>\n",
       "      <th>Super Mario Bros. 3</th>\n",
       "      <td>1988-10-23</td>\n",
       "    </tr>\n",
       "    <tr>\n",
       "      <th>Super Mario Bros. 2</th>\n",
       "      <td>1988-10-09</td>\n",
       "    </tr>\n",
       "    <tr>\n",
       "      <th>The Legend of Zelda</th>\n",
       "      <td>1986-02-21</td>\n",
       "    </tr>\n",
       "    <tr>\n",
       "      <th>Tetris</th>\n",
       "      <td>1989-11-01</td>\n",
       "    </tr>\n",
       "    <tr>\n",
       "      <th>Dr. Mario</th>\n",
       "      <td>1990-07-27</td>\n",
       "    </tr>\n",
       "    <tr>\n",
       "      <th>Zelda II: The Adventure of Link</th>\n",
       "      <td>1987-01-14</td>\n",
       "    </tr>\n",
       "    <tr>\n",
       "      <th>Excitebike</th>\n",
       "      <td>1984-11-30</td>\n",
       "    </tr>\n",
       "    <tr>\n",
       "      <th>Golf</th>\n",
       "      <td>1984-05-01</td>\n",
       "    </tr>\n",
       "  </tbody>\n",
       "</table>\n",
       "</div>"
      ],
      "text/plain": [
       "                                Release Date\n",
       "Super Mario Bros.                 1985-09-13\n",
       "Duck Hunt                         1984-04-21\n",
       "Super Mario Bros. 3               1988-10-23\n",
       "Super Mario Bros. 2               1988-10-09\n",
       "The Legend of Zelda               1986-02-21\n",
       "Tetris                            1989-11-01\n",
       "Dr. Mario                         1990-07-27\n",
       "Zelda II: The Adventure of Link   1987-01-14\n",
       "Excitebike                        1984-11-30\n",
       "Golf                              1984-05-01"
      ]
     },
     "execution_count": 110,
     "metadata": {},
     "output_type": "execute_result"
    }
   ],
   "source": [
    "sales_and_years.iloc[0:, 1:]"
   ]
  },
  {
   "cell_type": "code",
   "execution_count": 111,
   "metadata": {},
   "outputs": [
    {
     "data": {
      "text/html": [
       "<div>\n",
       "<style scoped>\n",
       "    .dataframe tbody tr th:only-of-type {\n",
       "        vertical-align: middle;\n",
       "    }\n",
       "\n",
       "    .dataframe tbody tr th {\n",
       "        vertical-align: top;\n",
       "    }\n",
       "\n",
       "    .dataframe thead th {\n",
       "        text-align: right;\n",
       "    }\n",
       "</style>\n",
       "<table border=\"1\" class=\"dataframe\">\n",
       "  <thead>\n",
       "    <tr style=\"text-align: right;\">\n",
       "      <th></th>\n",
       "      <th>Sales</th>\n",
       "      <th>Release Date</th>\n",
       "    </tr>\n",
       "  </thead>\n",
       "  <tbody>\n",
       "    <tr>\n",
       "      <th>Super Mario Bros. 2</th>\n",
       "      <td>7460000</td>\n",
       "      <td>1988-10-09</td>\n",
       "    </tr>\n",
       "    <tr>\n",
       "      <th>The Legend of Zelda</th>\n",
       "      <td>6510000</td>\n",
       "      <td>1986-02-21</td>\n",
       "    </tr>\n",
       "    <tr>\n",
       "      <th>Tetris</th>\n",
       "      <td>5580000</td>\n",
       "      <td>1989-11-01</td>\n",
       "    </tr>\n",
       "    <tr>\n",
       "      <th>Dr. Mario</th>\n",
       "      <td>4850000</td>\n",
       "      <td>1990-07-27</td>\n",
       "    </tr>\n",
       "    <tr>\n",
       "      <th>Zelda II: The Adventure of Link</th>\n",
       "      <td>4380000</td>\n",
       "      <td>1987-01-14</td>\n",
       "    </tr>\n",
       "    <tr>\n",
       "      <th>Excitebike</th>\n",
       "      <td>4160000</td>\n",
       "      <td>1984-11-30</td>\n",
       "    </tr>\n",
       "  </tbody>\n",
       "</table>\n",
       "</div>"
      ],
      "text/plain": [
       "                                   Sales Release Date\n",
       "Super Mario Bros. 2              7460000   1988-10-09\n",
       "The Legend of Zelda              6510000   1986-02-21\n",
       "Tetris                           5580000   1989-11-01\n",
       "Dr. Mario                        4850000   1990-07-27\n",
       "Zelda II: The Adventure of Link  4380000   1987-01-14\n",
       "Excitebike                       4160000   1984-11-30"
      ]
     },
     "execution_count": 111,
     "metadata": {},
     "output_type": "execute_result"
    }
   ],
   "source": [
    "sales_and_years.loc['Super Mario Bros. 2': 'Excitebike']"
   ]
  },
  {
   "cell_type": "markdown",
   "metadata": {},
   "source": [
    "### Import data from a csv using pandas\n",
    "The Pandas read_csv function is a powerful and versatile tool for reading data and forming a dataframe quickly. You can think of Dataframes like an SQL Table or spreadsheet. It is customary to import pandas under the alias `pd`:"
   ]
  },
  {
   "cell_type": "code",
   "execution_count": 152,
   "metadata": {},
   "outputs": [],
   "source": [
    "df = pd.read_csv('data/tips.csv')"
   ]
  },
  {
   "cell_type": "code",
   "execution_count": 153,
   "metadata": {},
   "outputs": [
    {
     "data": {
      "text/html": [
       "<div>\n",
       "<style scoped>\n",
       "    .dataframe tbody tr th:only-of-type {\n",
       "        vertical-align: middle;\n",
       "    }\n",
       "\n",
       "    .dataframe tbody tr th {\n",
       "        vertical-align: top;\n",
       "    }\n",
       "\n",
       "    .dataframe thead th {\n",
       "        text-align: right;\n",
       "    }\n",
       "</style>\n",
       "<table border=\"1\" class=\"dataframe\">\n",
       "  <thead>\n",
       "    <tr style=\"text-align: right;\">\n",
       "      <th></th>\n",
       "      <th>total_bill</th>\n",
       "      <th>tip</th>\n",
       "      <th>sex</th>\n",
       "      <th>smoker</th>\n",
       "      <th>day</th>\n",
       "      <th>time</th>\n",
       "      <th>size</th>\n",
       "    </tr>\n",
       "  </thead>\n",
       "  <tbody>\n",
       "    <tr>\n",
       "      <th>0</th>\n",
       "      <td>16.99</td>\n",
       "      <td>1.01</td>\n",
       "      <td>Female</td>\n",
       "      <td>No</td>\n",
       "      <td>Sun</td>\n",
       "      <td>Dinner</td>\n",
       "      <td>2</td>\n",
       "    </tr>\n",
       "    <tr>\n",
       "      <th>1</th>\n",
       "      <td>10.34</td>\n",
       "      <td>NaN</td>\n",
       "      <td>Male</td>\n",
       "      <td>No</td>\n",
       "      <td>Sun</td>\n",
       "      <td>Dinner</td>\n",
       "      <td>3</td>\n",
       "    </tr>\n",
       "    <tr>\n",
       "      <th>2</th>\n",
       "      <td>21.01</td>\n",
       "      <td>3.50</td>\n",
       "      <td>Male</td>\n",
       "      <td>No</td>\n",
       "      <td>Sun</td>\n",
       "      <td>Dinner</td>\n",
       "      <td>3</td>\n",
       "    </tr>\n",
       "    <tr>\n",
       "      <th>3</th>\n",
       "      <td>23.68</td>\n",
       "      <td>3.31</td>\n",
       "      <td>Male</td>\n",
       "      <td>No</td>\n",
       "      <td>Sun</td>\n",
       "      <td>Dinner</td>\n",
       "      <td>2</td>\n",
       "    </tr>\n",
       "    <tr>\n",
       "      <th>4</th>\n",
       "      <td>24.59</td>\n",
       "      <td>3.61</td>\n",
       "      <td>Female</td>\n",
       "      <td>No</td>\n",
       "      <td>Sun</td>\n",
       "      <td>Dinner</td>\n",
       "      <td>4</td>\n",
       "    </tr>\n",
       "    <tr>\n",
       "      <th>5</th>\n",
       "      <td>25.29</td>\n",
       "      <td>NaN</td>\n",
       "      <td>Male</td>\n",
       "      <td>No</td>\n",
       "      <td>Sun</td>\n",
       "      <td>Dinner</td>\n",
       "      <td>4</td>\n",
       "    </tr>\n",
       "    <tr>\n",
       "      <th>6</th>\n",
       "      <td>8.77</td>\n",
       "      <td>2.00</td>\n",
       "      <td>Male</td>\n",
       "      <td>No</td>\n",
       "      <td>Sun</td>\n",
       "      <td>Dinner</td>\n",
       "      <td>2</td>\n",
       "    </tr>\n",
       "  </tbody>\n",
       "</table>\n",
       "</div>"
      ],
      "text/plain": [
       "   total_bill   tip     sex smoker  day    time  size\n",
       "0       16.99  1.01  Female     No  Sun  Dinner     2\n",
       "1       10.34   NaN    Male     No  Sun  Dinner     3\n",
       "2       21.01  3.50    Male     No  Sun  Dinner     3\n",
       "3       23.68  3.31    Male     No  Sun  Dinner     2\n",
       "4       24.59  3.61  Female     No  Sun  Dinner     4\n",
       "5       25.29   NaN    Male     No  Sun  Dinner     4\n",
       "6        8.77  2.00    Male     No  Sun  Dinner     2"
      ]
     },
     "execution_count": 153,
     "metadata": {},
     "output_type": "execute_result"
    }
   ],
   "source": [
    "df"
   ]
  },
  {
   "cell_type": "code",
   "execution_count": 154,
   "metadata": {},
   "outputs": [
    {
     "data": {
      "text/plain": [
       "<bound method DataFrame.info of    total_bill   tip     sex smoker  day    time  size\n",
       "0       16.99  1.01  Female     No  Sun  Dinner     2\n",
       "1       10.34   NaN    Male     No  Sun  Dinner     3\n",
       "2       21.01  3.50    Male     No  Sun  Dinner     3\n",
       "3       23.68  3.31    Male     No  Sun  Dinner     2\n",
       "4       24.59  3.61  Female     No  Sun  Dinner     4\n",
       "5       25.29   NaN    Male     No  Sun  Dinner     4\n",
       "6        8.77  2.00    Male     No  Sun  Dinner     2>"
      ]
     },
     "execution_count": 154,
     "metadata": {},
     "output_type": "execute_result"
    }
   ],
   "source": [
    "df.info"
   ]
  },
  {
   "cell_type": "code",
   "execution_count": 155,
   "metadata": {},
   "outputs": [
    {
     "data": {
      "text/plain": [
       "0    1.01\n",
       "1     NaN\n",
       "2    3.50\n",
       "3    3.31\n",
       "4    3.61\n",
       "5     NaN\n",
       "6    2.00\n",
       "Name: tip, dtype: float64"
      ]
     },
     "execution_count": 155,
     "metadata": {},
     "output_type": "execute_result"
    }
   ],
   "source": [
    "df['tip']"
   ]
  },
  {
   "cell_type": "code",
   "execution_count": 156,
   "metadata": {},
   "outputs": [
    {
     "data": {
      "text/plain": [
       "0    False\n",
       "1     True\n",
       "2    False\n",
       "3    False\n",
       "4    False\n",
       "5     True\n",
       "6    False\n",
       "Name: tip, dtype: bool"
      ]
     },
     "execution_count": 156,
     "metadata": {},
     "output_type": "execute_result"
    }
   ],
   "source": [
    "df['tip'].isnull()"
   ]
  },
  {
   "cell_type": "code",
   "execution_count": 157,
   "metadata": {},
   "outputs": [
    {
     "data": {
      "text/plain": [
       "2.686"
      ]
     },
     "execution_count": 157,
     "metadata": {},
     "output_type": "execute_result"
    }
   ],
   "source": [
    "df['tip'].mean()"
   ]
  },
  {
   "cell_type": "code",
   "execution_count": 158,
   "metadata": {},
   "outputs": [],
   "source": [
    "df['tip'].fillna(df['tip'].mean(), inplace=True)"
   ]
  },
  {
   "cell_type": "code",
   "execution_count": 159,
   "metadata": {},
   "outputs": [
    {
     "data": {
      "text/html": [
       "<div>\n",
       "<style scoped>\n",
       "    .dataframe tbody tr th:only-of-type {\n",
       "        vertical-align: middle;\n",
       "    }\n",
       "\n",
       "    .dataframe tbody tr th {\n",
       "        vertical-align: top;\n",
       "    }\n",
       "\n",
       "    .dataframe thead th {\n",
       "        text-align: right;\n",
       "    }\n",
       "</style>\n",
       "<table border=\"1\" class=\"dataframe\">\n",
       "  <thead>\n",
       "    <tr style=\"text-align: right;\">\n",
       "      <th></th>\n",
       "      <th>total_bill</th>\n",
       "      <th>tip</th>\n",
       "      <th>sex</th>\n",
       "      <th>smoker</th>\n",
       "      <th>day</th>\n",
       "      <th>time</th>\n",
       "      <th>size</th>\n",
       "    </tr>\n",
       "  </thead>\n",
       "  <tbody>\n",
       "    <tr>\n",
       "      <th>0</th>\n",
       "      <td>16.99</td>\n",
       "      <td>1.010</td>\n",
       "      <td>Female</td>\n",
       "      <td>No</td>\n",
       "      <td>Sun</td>\n",
       "      <td>Dinner</td>\n",
       "      <td>2</td>\n",
       "    </tr>\n",
       "    <tr>\n",
       "      <th>1</th>\n",
       "      <td>10.34</td>\n",
       "      <td>2.686</td>\n",
       "      <td>Male</td>\n",
       "      <td>No</td>\n",
       "      <td>Sun</td>\n",
       "      <td>Dinner</td>\n",
       "      <td>3</td>\n",
       "    </tr>\n",
       "    <tr>\n",
       "      <th>2</th>\n",
       "      <td>21.01</td>\n",
       "      <td>3.500</td>\n",
       "      <td>Male</td>\n",
       "      <td>No</td>\n",
       "      <td>Sun</td>\n",
       "      <td>Dinner</td>\n",
       "      <td>3</td>\n",
       "    </tr>\n",
       "    <tr>\n",
       "      <th>3</th>\n",
       "      <td>23.68</td>\n",
       "      <td>3.310</td>\n",
       "      <td>Male</td>\n",
       "      <td>No</td>\n",
       "      <td>Sun</td>\n",
       "      <td>Dinner</td>\n",
       "      <td>2</td>\n",
       "    </tr>\n",
       "    <tr>\n",
       "      <th>4</th>\n",
       "      <td>24.59</td>\n",
       "      <td>3.610</td>\n",
       "      <td>Female</td>\n",
       "      <td>No</td>\n",
       "      <td>Sun</td>\n",
       "      <td>Dinner</td>\n",
       "      <td>4</td>\n",
       "    </tr>\n",
       "    <tr>\n",
       "      <th>5</th>\n",
       "      <td>25.29</td>\n",
       "      <td>2.686</td>\n",
       "      <td>Male</td>\n",
       "      <td>No</td>\n",
       "      <td>Sun</td>\n",
       "      <td>Dinner</td>\n",
       "      <td>4</td>\n",
       "    </tr>\n",
       "    <tr>\n",
       "      <th>6</th>\n",
       "      <td>8.77</td>\n",
       "      <td>2.000</td>\n",
       "      <td>Male</td>\n",
       "      <td>No</td>\n",
       "      <td>Sun</td>\n",
       "      <td>Dinner</td>\n",
       "      <td>2</td>\n",
       "    </tr>\n",
       "  </tbody>\n",
       "</table>\n",
       "</div>"
      ],
      "text/plain": [
       "   total_bill    tip     sex smoker  day    time  size\n",
       "0       16.99  1.010  Female     No  Sun  Dinner     2\n",
       "1       10.34  2.686    Male     No  Sun  Dinner     3\n",
       "2       21.01  3.500    Male     No  Sun  Dinner     3\n",
       "3       23.68  3.310    Male     No  Sun  Dinner     2\n",
       "4       24.59  3.610  Female     No  Sun  Dinner     4\n",
       "5       25.29  2.686    Male     No  Sun  Dinner     4\n",
       "6        8.77  2.000    Male     No  Sun  Dinner     2"
      ]
     },
     "execution_count": 159,
     "metadata": {},
     "output_type": "execute_result"
    }
   ],
   "source": [
    "df"
   ]
  },
  {
   "cell_type": "code",
   "execution_count": 160,
   "metadata": {},
   "outputs": [],
   "source": [
    "df2 = pd.read_csv('data/tips.csv')"
   ]
  },
  {
   "cell_type": "code",
   "execution_count": 162,
   "metadata": {},
   "outputs": [],
   "source": [
    "df_drop = df2['tip'].dropna()"
   ]
  },
  {
   "cell_type": "code",
   "execution_count": 163,
   "metadata": {},
   "outputs": [
    {
     "data": {
      "text/plain": [
       "0    1.01\n",
       "2    3.50\n",
       "3    3.31\n",
       "4    3.61\n",
       "6    2.00\n",
       "Name: tip, dtype: float64"
      ]
     },
     "execution_count": 163,
     "metadata": {},
     "output_type": "execute_result"
    }
   ],
   "source": [
    "df_drop"
   ]
  },
  {
   "cell_type": "markdown",
   "metadata": {},
   "source": [
    "## Matplotlib"
   ]
  },
  {
   "cell_type": "code",
   "execution_count": 164,
   "metadata": {},
   "outputs": [
    {
     "data": {
      "text/plain": [
       "<matplotlib.collections.PathCollection at 0x1bd630fa790>"
      ]
     },
     "execution_count": 164,
     "metadata": {},
     "output_type": "execute_result"
    },
    {
     "data": {
      "image/png": "[encoded data removed]",
      "text/plain": [
       "<Figure size 432x288 with 1 Axes>"
      ]
     },
     "metadata": {
      "needs_background": "light"
     },
     "output_type": "display_data"
    }
   ],
   "source": [
    "plt.scatter('Release Date', 'Sales', data = sales_and_years)"
   ]
  },
  {
   "cell_type": "code",
   "execution_count": 166,
   "metadata": {},
   "outputs": [
    {
     "data": {
      "text/plain": [
       "<AxesSubplot:title={'center':'NES'}, xlabel='Release Date', ylabel='Sales'>"
      ]
     },
     "execution_count": 166,
     "metadata": {},
     "output_type": "execute_result"
    },
    {
     "data": {
      "image/png": "[encoded data removed]",
      "text/plain": [
       "<Figure size 432x288 with 2 Axes>"
      ]
     },
     "metadata": {
      "needs_background": "light"
     },
     "output_type": "display_data"
    }
   ],
   "source": [
    "sales_and_years.plot('Release Date', 'Sales', kind='scatter', s=sales_and_years['Sales']/100000, c=\"Sales\", colormap='viridis', title='NES')\n",
    "\n"
   ]
  },
  {
   "cell_type": "code",
   "execution_count": 167,
   "metadata": {},
   "outputs": [],
   "source": [
    "import seaborn as sns"
   ]
  },
  {
   "cell_type": "code",
   "execution_count": 170,
   "metadata": {},
   "outputs": [
    {
     "data": {
      "text/plain": [
       "['anagrams',\n",
       " 'anscombe',\n",
       " 'attention',\n",
       " 'brain_networks',\n",
       " 'car_crashes',\n",
       " 'diamonds',\n",
       " 'dots',\n",
       " 'exercise',\n",
       " 'flights',\n",
       " 'fmri',\n",
       " 'gammas',\n",
       " 'geyser',\n",
       " 'iris',\n",
       " 'mpg',\n",
       " 'penguins',\n",
       " 'planets',\n",
       " 'tips',\n",
       " 'titanic']"
      ]
     },
     "execution_count": 170,
     "metadata": {},
     "output_type": "execute_result"
    }
   ],
   "source": [
    "sns.get_dataset_names()"
   ]
  },
  {
   "cell_type": "code",
   "execution_count": 171,
   "metadata": {},
   "outputs": [],
   "source": [
    "flights = sns.load_dataset(\"flights\")"
   ]
  },
  {
   "cell_type": "code",
   "execution_count": 172,
   "metadata": {},
   "outputs": [
    {
     "data": {
      "text/html": [
       "<div>\n",
       "<style scoped>\n",
       "    .dataframe tbody tr th:only-of-type {\n",
       "        vertical-align: middle;\n",
       "    }\n",
       "\n",
       "    .dataframe tbody tr th {\n",
       "        vertical-align: top;\n",
       "    }\n",
       "\n",
       "    .dataframe thead th {\n",
       "        text-align: right;\n",
       "    }\n",
       "</style>\n",
       "<table border=\"1\" class=\"dataframe\">\n",
       "  <thead>\n",
       "    <tr style=\"text-align: right;\">\n",
       "      <th></th>\n",
       "      <th>year</th>\n",
       "      <th>month</th>\n",
       "      <th>passengers</th>\n",
       "    </tr>\n",
       "  </thead>\n",
       "  <tbody>\n",
       "    <tr>\n",
       "      <th>0</th>\n",
       "      <td>1949</td>\n",
       "      <td>Jan</td>\n",
       "      <td>112</td>\n",
       "    </tr>\n",
       "    <tr>\n",
       "      <th>1</th>\n",
       "      <td>1949</td>\n",
       "      <td>Feb</td>\n",
       "      <td>118</td>\n",
       "    </tr>\n",
       "    <tr>\n",
       "      <th>2</th>\n",
       "      <td>1949</td>\n",
       "      <td>Mar</td>\n",
       "      <td>132</td>\n",
       "    </tr>\n",
       "    <tr>\n",
       "      <th>3</th>\n",
       "      <td>1949</td>\n",
       "      <td>Apr</td>\n",
       "      <td>129</td>\n",
       "    </tr>\n",
       "    <tr>\n",
       "      <th>4</th>\n",
       "      <td>1949</td>\n",
       "      <td>May</td>\n",
       "      <td>121</td>\n",
       "    </tr>\n",
       "  </tbody>\n",
       "</table>\n",
       "</div>"
      ],
      "text/plain": [
       "   year month  passengers\n",
       "0  1949   Jan         112\n",
       "1  1949   Feb         118\n",
       "2  1949   Mar         132\n",
       "3  1949   Apr         129\n",
       "4  1949   May         121"
      ]
     },
     "execution_count": 172,
     "metadata": {},
     "output_type": "execute_result"
    }
   ],
   "source": [
    "flights.head()"
   ]
  },
  {
   "cell_type": "code",
   "execution_count": 175,
   "metadata": {},
   "outputs": [
    {
     "data": {
      "text/plain": [
       "<seaborn.axisgrid.PairGrid at 0x1bd653ca520>"
      ]
     },
     "execution_count": 175,
     "metadata": {},
     "output_type": "execute_result"
    },
    {
     "data": {
      "image/png": "[encoded data removed]",
      "text/plain": [
       "<Figure size 416.625x360 with 6 Axes>"
      ]
     },
     "metadata": {
      "needs_background": "light"
     },
     "output_type": "display_data"
    }
   ],
   "source": [
    "sns.pairplot(data=flights, hue=\"month\")"
   ]
  },
  {
   "cell_type": "code",
   "execution_count": 178,
   "metadata": {},
   "outputs": [],
   "source": [
    "re_flights = flights.pivot(\"month\", \"year\", \"passengers\")"
   ]
  },
  {
   "cell_type": "code",
   "execution_count": 179,
   "metadata": {},
   "outputs": [
    {
     "data": {
      "text/html": [
       "<div>\n",
       "<style scoped>\n",
       "    .dataframe tbody tr th:only-of-type {\n",
       "        vertical-align: middle;\n",
       "    }\n",
       "\n",
       "    .dataframe tbody tr th {\n",
       "        vertical-align: top;\n",
       "    }\n",
       "\n",
       "    .dataframe thead th {\n",
       "        text-align: right;\n",
       "    }\n",
       "</style>\n",
       "<table border=\"1\" class=\"dataframe\">\n",
       "  <thead>\n",
       "    <tr style=\"text-align: right;\">\n",
       "      <th>year</th>\n",
       "      <th>1949</th>\n",
       "      <th>1950</th>\n",
       "      <th>1951</th>\n",
       "      <th>1952</th>\n",
       "      <th>1953</th>\n",
       "      <th>1954</th>\n",
       "      <th>1955</th>\n",
       "      <th>1956</th>\n",
       "      <th>1957</th>\n",
       "      <th>1958</th>\n",
       "      <th>1959</th>\n",
       "      <th>1960</th>\n",
       "    </tr>\n",
       "    <tr>\n",
       "      <th>month</th>\n",
       "      <th></th>\n",
       "      <th></th>\n",
       "      <th></th>\n",
       "      <th></th>\n",
       "      <th></th>\n",
       "      <th></th>\n",
       "      <th></th>\n",
       "      <th></th>\n",
       "      <th></th>\n",
       "      <th></th>\n",
       "      <th></th>\n",
       "      <th></th>\n",
       "    </tr>\n",
       "  </thead>\n",
       "  <tbody>\n",
       "    <tr>\n",
       "      <th>Jan</th>\n",
       "      <td>112</td>\n",
       "      <td>115</td>\n",
       "      <td>145</td>\n",
       "      <td>171</td>\n",
       "      <td>196</td>\n",
       "      <td>204</td>\n",
       "      <td>242</td>\n",
       "      <td>284</td>\n",
       "      <td>315</td>\n",
       "      <td>340</td>\n",
       "      <td>360</td>\n",
       "      <td>417</td>\n",
       "    </tr>\n",
       "    <tr>\n",
       "      <th>Feb</th>\n",
       "      <td>118</td>\n",
       "      <td>126</td>\n",
       "      <td>150</td>\n",
       "      <td>180</td>\n",
       "      <td>196</td>\n",
       "      <td>188</td>\n",
       "      <td>233</td>\n",
       "      <td>277</td>\n",
       "      <td>301</td>\n",
       "      <td>318</td>\n",
       "      <td>342</td>\n",
       "      <td>391</td>\n",
       "    </tr>\n",
       "    <tr>\n",
       "      <th>Mar</th>\n",
       "      <td>132</td>\n",
       "      <td>141</td>\n",
       "      <td>178</td>\n",
       "      <td>193</td>\n",
       "      <td>236</td>\n",
       "      <td>235</td>\n",
       "      <td>267</td>\n",
       "      <td>317</td>\n",
       "      <td>356</td>\n",
       "      <td>362</td>\n",
       "      <td>406</td>\n",
       "      <td>419</td>\n",
       "    </tr>\n",
       "    <tr>\n",
       "      <th>Apr</th>\n",
       "      <td>129</td>\n",
       "      <td>135</td>\n",
       "      <td>163</td>\n",
       "      <td>181</td>\n",
       "      <td>235</td>\n",
       "      <td>227</td>\n",
       "      <td>269</td>\n",
       "      <td>313</td>\n",
       "      <td>348</td>\n",
       "      <td>348</td>\n",
       "      <td>396</td>\n",
       "      <td>461</td>\n",
       "    </tr>\n",
       "    <tr>\n",
       "      <th>May</th>\n",
       "      <td>121</td>\n",
       "      <td>125</td>\n",
       "      <td>172</td>\n",
       "      <td>183</td>\n",
       "      <td>229</td>\n",
       "      <td>234</td>\n",
       "      <td>270</td>\n",
       "      <td>318</td>\n",
       "      <td>355</td>\n",
       "      <td>363</td>\n",
       "      <td>420</td>\n",
       "      <td>472</td>\n",
       "    </tr>\n",
       "  </tbody>\n",
       "</table>\n",
       "</div>"
      ],
      "text/plain": [
       "year   1949  1950  1951  1952  1953  1954  1955  1956  1957  1958  1959  1960\n",
       "month                                                                        \n",
       "Jan     112   115   145   171   196   204   242   284   315   340   360   417\n",
       "Feb     118   126   150   180   196   188   233   277   301   318   342   391\n",
       "Mar     132   141   178   193   236   235   267   317   356   362   406   419\n",
       "Apr     129   135   163   181   235   227   269   313   348   348   396   461\n",
       "May     121   125   172   183   229   234   270   318   355   363   420   472"
      ]
     },
     "execution_count": 179,
     "metadata": {},
     "output_type": "execute_result"
    }
   ],
   "source": [
    "re_flights.head()"
   ]
  },
  {
   "cell_type": "code",
   "execution_count": 182,
   "metadata": {},
   "outputs": [
    {
     "data": {
      "text/plain": [
       "<AxesSubplot:xlabel='year', ylabel='month'>"
      ]
     },
     "execution_count": 182,
     "metadata": {},
     "output_type": "execute_result"
    },
    {
     "data": {
      "image/png": "[encoded data removed]",
      "text/plain": [
       "<Figure size 432x288 with 2 Axes>"
      ]
     },
     "metadata": {
      "needs_background": "light"
     },
     "output_type": "display_data"
    }
   ],
   "source": [
    "sns.heatmap(re_flights)"
   ]
  }
 ],
 "metadata": {
  "colab": {
   "authorship_tag": "ABX9TyPbbfIlBjYscKdrl2nS4uQQ",
   "collapsed_sections": [],
   "include_colab_link": true,
   "name": "data_manipulation.ipynb",
   "provenance": []
  },
  "kernelspec": {
   "display_name": "Python 3",
   "language": "python",
   "name": "python3"
  },
  "language_info": {
   "codemirror_mode": {
    "name": "ipython",
    "version": 3
   },
   "file_extension": ".py",
   "mimetype": "text/x-python",
   "name": "python",
   "nbconvert_exporter": "python",
   "pygments_lexer": "ipython3",
   "version": "3.8.5"
  }
 },
 "nbformat": 4,
 "nbformat_minor": 4
}
