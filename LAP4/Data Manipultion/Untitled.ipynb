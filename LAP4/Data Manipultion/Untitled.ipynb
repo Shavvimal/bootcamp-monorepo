{
 "cells": [
  {
   "cell_type": "markdown",
   "metadata": {},
   "source": [
    "<h2 align=\"center\"> Welcome to my Profile! </h2>\n",
    "<p align=\"center\">  Hi, I'm Shav! I'm currently a Trainee Full Stack Developer at <a href=\"https://getfutureproof.co.uk/\">Futureproof</a>. I\n",
    "decided to pursue a career in software development (having graduated with a degree in Chemical Engineering) after I tried\n",
    "my hand at using Python while training my own StyleGAN to artificially generate artwork. As someone who loves to <a href=\"https://youtu.be/2audU-MHQ3Q\">paint</a> I\n",
    "value creativity and attention to detail in everything I do! </p> "
   ]
  },
  {
   "cell_type": "code",
   "execution_count": null,
   "metadata": {},
   "outputs": [],
   "source": []
  },
  {
   "cell_type": "code",
   "execution_count": null,
   "metadata": {},
   "outputs": [],
   "source": []
  },
  {
   "cell_type": "code",
   "execution_count": null,
   "metadata": {},
   "outputs": [],
   "source": []
  }
 ],
 "metadata": {
  "kernelspec": {
   "display_name": "Python 3",
   "language": "python",
   "name": "python3"
  },
  "language_info": {
   "codemirror_mode": {
    "name": "ipython",
    "version": 3
   },
   "file_extension": ".py",
   "mimetype": "text/x-python",
   "name": "python",
   "nbconvert_exporter": "python",
   "pygments_lexer": "ipython3",
   "version": "3.8.5"
  }
 },
 "nbformat": 4,
 "nbformat_minor": 4
}
